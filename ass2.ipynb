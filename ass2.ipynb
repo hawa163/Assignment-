{
 "cells": [
  {
   "cell_type": "code",
   "execution_count": 1,
   "metadata": {},
   "outputs": [],
   "source": [
    "import numpy as np\n",
    "import pandas as pd"
   ]
  },
  {
   "cell_type": "code",
   "execution_count": 2,
   "metadata": {},
   "outputs": [],
   "source": [
    "am_df=pd.read_csv('movies_metadata.csv', encoding ='latin-1', sep=',')"
   ]
  },
  {
   "cell_type": "code",
   "execution_count": 7,
   "metadata": {},
   "outputs": [
    {
     "data": {
      "text/plain": [
       "adult                                                                False\n",
       "belongs_to_collection    {'id': 119050, 'name': 'Grumpy Old Men Collect...\n",
       "budget                                                                   0\n",
       "genres                   [{'id': 10749, 'name': 'Romance'}, {'id': 35, ...\n",
       "homepage                                                               NaN\n",
       "id                                                                   15602\n",
       "imdb_id                                                          tt0113228\n",
       "original_language                                                       en\n",
       "original_title                                            Grumpier Old Men\n",
       "overview                 A family wedding reignites the ancient feud be...\n",
       "popularity                                                         11.7129\n",
       "poster_path                               /6ksm1sjKMFLbO7UY2i6G1ju9SML.jpg\n",
       "production_companies     [{'name': 'Warner Bros.', 'id': 6194}, {'name'...\n",
       "production_countries     [{'iso_3166_1': 'US', 'name': 'United States o...\n",
       "release_date                                                    12/22/1995\n",
       "revenue                                                                  0\n",
       "runtime                                                                101\n",
       "spoken_languages                  [{'iso_639_1': 'en', 'name': 'English'}]\n",
       "status                                                            Released\n",
       "tagline                  Still Yelling. Still Fighting. Still Ready for...\n",
       "title                                                     Grumpier Old Men\n",
       "video                                                                FALSE\n",
       "vote_average                                                           6.5\n",
       "vote_count                                                              92\n",
       "Name: 2, dtype: object"
      ]
     },
     "execution_count": 7,
     "metadata": {},
     "output_type": "execute_result"
    }
   ],
   "source": [
    "#Details of the Third Movies\n",
    "third_movie = am_df.loc[2]\n",
    "third_movie"
   ]
  },
  {
   "cell_type": "code",
   "execution_count": 8,
   "metadata": {},
   "outputs": [
    {
     "data": {
      "text/plain": [
       "(50, 24)"
      ]
     },
     "execution_count": 8,
     "metadata": {},
     "output_type": "execute_result"
    }
   ],
   "source": [
    "#the numb\n",
    "result =am_df.shape\n",
    "(result)"
   ]
  },
  {
   "cell_type": "code",
   "execution_count": null,
   "metadata": {},
   "outputs": [],
   "source": []
  }
 ],
 "metadata": {
  "kernelspec": {
   "display_name": "Python 3",
   "language": "python",
   "name": "python3"
  },
  "language_info": {
   "codemirror_mode": {
    "name": "ipython",
    "version": 3
   },
   "file_extension": ".py",
   "mimetype": "text/x-python",
   "name": "python",
   "nbconvert_exporter": "python",
   "pygments_lexer": "ipython3",
   "version": "3.7.3"
  }
 },
 "nbformat": 4,
 "nbformat_minor": 2
}
