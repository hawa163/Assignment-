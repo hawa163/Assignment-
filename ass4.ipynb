{
 "cells": [
  {
   "cell_type": "code",
   "execution_count": 1,
   "metadata": {},
   "outputs": [],
   "source": [
    "import numpy as np\n",
    "import pandas as pd"
   ]
  },
  {
   "cell_type": "code",
   "execution_count": 2,
   "metadata": {},
   "outputs": [],
   "source": [
    "am_df=pd.read_csv('movies_metadata.csv', encoding ='latin-1', sep=',')"
   ]
  },
  {
   "cell_type": "code",
   "execution_count": 4,
   "metadata": {},
   "outputs": [
    {
     "name": "stdout",
     "output_type": "stream",
     "text": [
      "Details of the fifth movie of the DataFrame:\n",
      "adult                                                                False\n",
      "belongs_to_collection    {'id': 96871, 'name': 'Father of the Bride Col...\n",
      "budget                                                                   0\n",
      "genres                                      [{'id': 35, 'name': 'Comedy'}]\n",
      "homepage                                                               NaN\n",
      "id                                                                   11862\n",
      "imdb_id                                                          tt0113041\n",
      "original_language                                                       en\n",
      "original_title                                 Father of the Bride Part II\n",
      "overview                 Just when George Banks has recovered from his ...\n",
      "popularity                                                        8.387519\n",
      "poster_path                               /e64sOI48hQXyru7naBFyssKFxVd.jpg\n",
      "production_companies     [{'name': 'Sandollar Productions', 'id': 5842}...\n",
      "production_countries     [{'iso_3166_1': 'US', 'name': 'United States o...\n",
      "release_date                                                     2/10/1995\n",
      "revenue                                                           76578911\n",
      "runtime                                                                106\n",
      "spoken_languages                  [{'iso_639_1': 'en', 'name': 'English'}]\n",
      "status                                                            Released\n",
      "tagline                  Just When His World Is Back To Normal... He's ...\n",
      "title                                          Father of the Bride Part II\n",
      "video                                                                FALSE\n",
      "vote_average                                                           5.7\n",
      "vote_count                                                             173\n",
      "Name: 4, dtype: object\n"
     ]
    }
   ],
   "source": [
    "#Details of the fifth movie of the DataFrame:\n",
    "fifthmovie  = am_df.loc[4]\n",
    "print(\"Details of the fifth movie of the DataFrame:\")\n",
    "print(fifthmovie)"
   ]
  },
  {
   "cell_type": "code",
   "execution_count": 5,
   "metadata": {},
   "outputs": [
    {
     "name": "stdout",
     "output_type": "stream",
     "text": [
      "Smallers DataFrame:\n",
      "                         title release_date    budget\n",
      "0                    Toy Story   10/30/1995  30000000\n",
      "1                      Jumanji   12/15/1995  65000000\n",
      "2             Grumpier Old Men   12/22/1995         0\n",
      "3            Waiting to Exhale   12/22/1995  16000000\n",
      "4  Father of the Bride Part II    2/10/1995         0\n"
     ]
    }
   ],
   "source": [
    "# Create a smaller dataframe\n",
    "am_small_df = am_df[['title', 'release_date', 'budget']]\n",
    "print(\"Smallers DataFrame:\")\n",
    "print(am_small_df.head())\n"
   ]
  },
  {
   "cell_type": "code",
   "execution_count": null,
   "metadata": {},
   "outputs": [],
   "source": []
  }
 ],
 "metadata": {
  "kernelspec": {
   "display_name": "Python 3",
   "language": "python",
   "name": "python3"
  },
  "language_info": {
   "codemirror_mode": {
    "name": "ipython",
    "version": 3
   },
   "file_extension": ".py",
   "mimetype": "text/x-python",
   "name": "python",
   "nbconvert_exporter": "python",
   "pygments_lexer": "ipython3",
   "version": "3.7.3"
  }
 },
 "nbformat": 4,
 "nbformat_minor": 2
}
